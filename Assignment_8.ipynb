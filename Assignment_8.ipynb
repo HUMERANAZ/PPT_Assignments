{
 "cells": [
  {
   "cell_type": "markdown",
   "id": "b9c549b6",
   "metadata": {},
   "source": [
    "# Assignment-8(Strings)"
   ]
  },
  {
   "cell_type": "markdown",
   "id": "bfa140c2",
   "metadata": {},
   "source": [
    "\n",
    "💡 **Question 1**\n",
    "\n",
    "Given two strings s1 and s2, return *the lowest **ASCII** sum of deleted characters to make two strings equal*.\n",
    "\n",
    "**Example 1:**\n",
    "\n",
    "**Input:** s1 = \"sea\", s2 = \"eat\"\n",
    "\n",
    "**Output:** 231\n",
    "\n",
    "**Explanation:** Deleting \"s\" from \"sea\" adds the ASCII value of \"s\" (115) to the sum.\n",
    "\n",
    "Deleting \"t\" from \"eat\" adds 116 to the sum.\n",
    "\n",
    "At the end, both strings are equal, and 115 + 116 = 231 is the minimum sum possible to achieve this.\n",
    "\n"
   ]
  },
  {
   "cell_type": "code",
   "execution_count": 6,
   "id": "833ebc71",
   "metadata": {},
   "outputs": [
    {
     "name": "stdout",
     "output_type": "stream",
     "text": [
      "231\n"
     ]
    }
   ],
   "source": [
    "import numpy as np\n",
    "\n",
    "def minimumDeleteSum(s1, s2):\n",
    "    m, n = len(s1), len(s2)\n",
    "    \n",
    "    # Create a 2D array to store the minimum ASCII sum\n",
    "    dp = np.zeros((m + 1, n + 1), dtype=int)\n",
    "    \n",
    "    # Fill the first row\n",
    "    dp[0, 1:] = dp[0, :-1] + np.array([ord(c) for c in s2])\n",
    "    \n",
    "    # Fill the first column\n",
    "    dp[1:, 0] = dp[:-1, 0] + np.array([ord(c) for c in s1])\n",
    "    \n",
    "    # Fill the rest of the table\n",
    "    for i in range(1, m + 1):\n",
    "        for j in range(1, n + 1):\n",
    "            if s1[i - 1] == s2[j - 1]:\n",
    "                dp[i, j] = dp[i - 1, j - 1]\n",
    "            else:\n",
    "                dp[i, j] = min(dp[i - 1, j] + ord(s1[i - 1]), dp[i, j - 1] + ord(s2[j - 1]), dp[i - 1, j - 1] + ord(s1[i - 1]) + ord(s2[j - 1]))\n",
    "    \n",
    "    return dp[m, n]\n",
    "\n",
    "\n",
    "result = minimumDeleteSum(\"sea\", \"eat\")\n",
    "print(result)\n",
    "\n"
   ]
  },
  {
   "cell_type": "markdown",
   "id": "a7ed1381",
   "metadata": {},
   "source": [
    "\n",
    "💡 **Question 2**\n",
    "\n",
    "Given a string s containing only three types of characters: '(', ')' and '*', return true if s is valid.\n",
    "\n",
    "The following rules define a **valid** string:\n",
    "\n",
    "- Any left parenthesis '(' must have a corresponding right parenthesis ')'.\n",
    "- Any right parenthesis ')' must have a corresponding left parenthesis '('.\n",
    "- Left parenthesis '(' must go before the corresponding right parenthesis ')'.\n",
    "- '*' could be treated as a single right parenthesis ')' or a single left parenthesis '(' or an empty string \"\".\n",
    "\n",
    "**Example 1:**\n",
    "\n",
    "**Input:** s = \"()\"\n",
    "\n",
    "**Output:**\n",
    "\n",
    "true\n",
    "\n",
    "</aside>"
   ]
  },
  {
   "cell_type": "code",
   "execution_count": 7,
   "id": "202996f3",
   "metadata": {},
   "outputs": [
    {
     "name": "stdout",
     "output_type": "stream",
     "text": [
      "True\n"
     ]
    }
   ],
   "source": [
    "def isValid(s):\n",
    "    stack = []\n",
    "    asterisk_stack = []\n",
    "    \n",
    "    for char in s:\n",
    "        if char == '(':\n",
    "            stack.append(char)\n",
    "        elif char == '*':\n",
    "            asterisk_stack.append(char)\n",
    "        else:\n",
    "            if stack:\n",
    "                stack.pop()\n",
    "            elif asterisk_stack:\n",
    "                asterisk_stack.pop()\n",
    "            else:\n",
    "                return False\n",
    "    \n",
    "    while stack and asterisk_stack:\n",
    "        if stack[-1] > asterisk_stack[-1]:\n",
    "            return False\n",
    "        stack.pop()\n",
    "        asterisk_stack.pop()\n",
    "    \n",
    "    return len(stack) == 0\n",
    "\n",
    "result = isValid(\"()\")\n",
    "print(result)\n"
   ]
  },
  {
   "cell_type": "markdown",
   "id": "4773c15f",
   "metadata": {},
   "source": [
    "💡 **Question 3**\n",
    "\n",
    "Given two strings word1 and word2, return *the minimum number of **steps** required to make* word1 *and* word2 *the same*.\n",
    "\n",
    "In one **step**, you can delete exactly one character in either string.\n",
    "\n",
    "**Example 1:**\n",
    "\n",
    "**Input:** word1 = \"sea\", word2 = \"eat\"\n",
    "\n",
    "**Output:** 2\n",
    "\n",
    "\n",
    "**Explanation:** You need one step to make \"sea\" to \"ea\" and another step to make \"eat\" to \"ea\"."
   ]
  },
  {
   "cell_type": "code",
   "execution_count": 8,
   "id": "a4bc1adf",
   "metadata": {},
   "outputs": [
    {
     "name": "stdout",
     "output_type": "stream",
     "text": [
      "2\n"
     ]
    }
   ],
   "source": [
    "def minSteps(word1, word2):\n",
    "    m, n = len(word1), len(word2)\n",
    "    \n",
    "    # Create a 2D array to store the LCS lengths\n",
    "    dp = [[0] * (n + 1) for _ in range(m + 1)]\n",
    "    \n",
    "    # Fill the dp array\n",
    "    for i in range(1, m + 1):\n",
    "        for j in range(1, n + 1):\n",
    "            if word1[i - 1] == word2[j - 1]:\n",
    "                dp[i][j] = dp[i - 1][j - 1] + 1\n",
    "            else:\n",
    "                dp[i][j] = max(dp[i - 1][j], dp[i][j - 1])\n",
    "    \n",
    "    # Calculate the number of steps\n",
    "    lcs_length = dp[m][n]\n",
    "    steps = m + n - 2 * lcs_length\n",
    "    \n",
    "    return steps\n",
    "\n",
    "result = minSteps(\"sea\", \"eat\")\n",
    "print(result)\n"
   ]
  },
  {
   "cell_type": "markdown",
   "id": "ab09d2a2",
   "metadata": {},
   "source": [
    "\n",
    "💡 **Question 4**\n",
    "\n",
    "You need to construct a binary tree from a string consisting of parenthesis and integers.\n",
    "\n",
    "The whole input represents a binary tree. It contains an integer followed by zero, one or two pairs of parenthesis. The integer represents the root's value and a pair of parenthesis contains a child binary tree with the same structure.\n",
    "You always start to construct the **left** child node of the parent first if it exists.\n",
    "\n",
    "**Input:** s = \"4(2(3)(1))(6(5))\"\n",
    "\n",
    "**Output:** [4,2,6,3,1,5]"
   ]
  },
  {
   "cell_type": "code",
   "execution_count": 30,
   "id": "41a17942",
   "metadata": {},
   "outputs": [
    {
     "name": "stdout",
     "output_type": "stream",
     "text": [
      "[4, 2, 6, 3, 1, 5]\n"
     ]
    }
   ],
   "source": [
    "class TreeNode:\n",
    "    def __init__(self, val=0, left=None, right=None):\n",
    "        self.val = val\n",
    "        self.left = left\n",
    "        self.right = right\n",
    "\n",
    "\n",
    "def constructBinaryTree(s):\n",
    "    if not s:\n",
    "        return None\n",
    "\n",
    "    # Find the index of the first '(' character\n",
    "    index = s.find('(')\n",
    "\n",
    "    if index == -1:\n",
    "        # No '(' found, so the entire string represents a single node\n",
    "        return TreeNode(int(s))\n",
    "\n",
    "    # Extract the value of the root node\n",
    "    root_val = int(s[:index])\n",
    "\n",
    "    # Count the opening and closing parentheses to determine the boundaries of the left and right subtrees\n",
    "    count = 0\n",
    "    i = index\n",
    "    while i < len(s):\n",
    "        if s[i] == '(':\n",
    "            count += 1\n",
    "        elif s[i] == ')':\n",
    "            count -= 1\n",
    "\n",
    "        if count == 0:\n",
    "            break\n",
    "\n",
    "        i += 1\n",
    "\n",
    "    # Recursively construct the left and right subtrees\n",
    "    left = constructBinaryTree(s[index+1:i])\n",
    "    right = constructBinaryTree(s[i+2:-1])\n",
    "\n",
    "    # Create the root node and connect the left and right subtrees\n",
    "    root = TreeNode(root_val)\n",
    "    root.left = left\n",
    "    root.right = right\n",
    "\n",
    "    return root\n",
    "\n",
    "\n",
    "def inorderTraversal(root):\n",
    "    if not root:\n",
    "        return []\n",
    "\n",
    "    result = []\n",
    "\n",
    "    def inorder(node):\n",
    "        if not node:\n",
    "            return\n",
    "\n",
    "        inorder(node.left)\n",
    "        result.append(node.val)\n",
    "        inorder(node.right)\n",
    "\n",
    "    inorder(root)\n",
    "\n",
    "    return result\n",
    "\n",
    "\n",
    "s = \"4(2(3)(1))(6(5))\"\n",
    "root = constructBinaryTree(s)\n",
    "output = inorderTraversal(root)\n",
    "print(output)\n"
   ]
  },
  {
   "cell_type": "markdown",
   "id": "2ace9361",
   "metadata": {},
   "source": [
    "\n",
    "💡 **Question 5**\n",
    "\n",
    "Given an array of characters chars, compress it using the following algorithm:\n",
    "\n",
    "Begin with an empty string s. For each group of **consecutive repeating characters** in chars:\n",
    "\n",
    "- If the group's length is 1, append the character to s.\n",
    "- Otherwise, append the character followed by the group's length.\n",
    "\n",
    "The compressed string s **should not be returned separately**, but instead, be stored **in the input character array chars**. Note that group lengths that are 10 or longer will be split into multiple characters in chars.\n",
    "\n",
    "After you are done **modifying the input array,** return *the new length of the array*.\n",
    "\n",
    "You must write an algorithm that uses only constant extra space.\n",
    "\n",
    "**Example 1:**\n",
    "\n",
    "**Input:** chars = [\"a\",\"a\",\"b\",\"b\",\"c\",\"c\",\"c\"]\n",
    "\n",
    "**Output:** Return 6, and the first 6 characters of the input array should be: [\"a\",\"2\",\"b\",\"2\",\"c\",\"3\"]\n",
    "\n",
    "**Explanation:**\n",
    "\n",
    "The groups are \"aa\", \"bb\", and \"ccc\". This compresses to \"a2b2c3\".\n",
    "\n"
   ]
  },
  {
   "cell_type": "code",
   "execution_count": 20,
   "id": "e77e5275",
   "metadata": {},
   "outputs": [
    {
     "name": "stdout",
     "output_type": "stream",
     "text": [
      "6\n",
      "['a', '2', 'b', '2', 'c', '3']\n"
     ]
    }
   ],
   "source": [
    "def compress(chars):\n",
    "    if len(chars) == 0:\n",
    "        return 0\n",
    "\n",
    "    write_idx = 0  # Index to write the compressed characters\n",
    "    count = 1  # Count of consecutive repeating characters\n",
    "\n",
    "    for i in range(1, len(chars)):\n",
    "        if chars[i] == chars[i - 1]:\n",
    "            count += 1\n",
    "        else:\n",
    "            chars[write_idx] = chars[i - 1]\n",
    "            write_idx += 1\n",
    "\n",
    "            if count > 1:\n",
    "                # Convert the count to characters and write them\n",
    "                count_str = str(count)\n",
    "                for digit in count_str:\n",
    "                    chars[write_idx] = digit\n",
    "                    write_idx += 1\n",
    "\n",
    "            count = 1\n",
    "\n",
    "    # Write the last character and its count if necessary\n",
    "    chars[write_idx] = chars[-1]\n",
    "    write_idx += 1\n",
    "\n",
    "    if count > 1:\n",
    "        count_str = str(count)\n",
    "        for digit in count_str:\n",
    "            chars[write_idx] = digit\n",
    "            write_idx += 1\n",
    "\n",
    "    return write_idx\n",
    "\n",
    "\n",
    "chars = [\"a\", \"a\", \"b\", \"b\", \"c\", \"c\", \"c\"]\n",
    "new_length = compress(chars)\n",
    "compressed_chars = chars[:new_length]\n",
    "\n",
    "print(new_length)\n",
    "print(compressed_chars)\n"
   ]
  },
  {
   "cell_type": "markdown",
   "id": "812dcac3",
   "metadata": {},
   "source": [
    "\n",
    "💡 **Question 6**\n",
    "\n",
    "Given two strings s and p, return *an array of all the start indices of* p*'s anagrams in* s. You may return the answer in **any order**.\n",
    "\n",
    "An **Anagram** is a word or phrase formed by rearranging the letters of a different word or phrase, typically using all the original letters exactly once.\n",
    "\n",
    "**Example 1:**\n",
    "\n",
    "**Input:** s = \"cbaebabacd\", p = \"abc\"\n",
    "\n",
    "**Output:** [0,6]\n",
    "\n",
    "**Explanation:**\n",
    "\n",
    "The substring with start index = 0 is \"cba\", which is an anagram of \"abc\".\n",
    "\n",
    "The substring with start index = 6 is \"bac\", which is an anagram of \"abc\".\n",
    "\n"
   ]
  },
  {
   "cell_type": "code",
   "execution_count": 21,
   "id": "cd814aaf",
   "metadata": {},
   "outputs": [
    {
     "name": "stdout",
     "output_type": "stream",
     "text": [
      "[0, 6]\n"
     ]
    }
   ],
   "source": [
    "from collections import defaultdict\n",
    "\n",
    "def findAnagrams(s, p):\n",
    "    result = []\n",
    "    p_freq = defaultdict(int)\n",
    "    s_freq = defaultdict(int)\n",
    "\n",
    "    # Count the frequencies of characters in p\n",
    "    for char in p:\n",
    "        p_freq[char] += 1\n",
    "\n",
    "    # Initialize the sliding window\n",
    "    window_start = 0\n",
    "    window_end = 0\n",
    "\n",
    "    while window_end < len(s):\n",
    "        # Expand the window by including the next character\n",
    "        s_freq[s[window_end]] += 1\n",
    "\n",
    "        # Shrink the window if its size exceeds p's length\n",
    "        if window_end - window_start + 1 > len(p):\n",
    "            s_freq[s[window_start]] -= 1\n",
    "            if s_freq[s[window_start]] == 0:\n",
    "                del s_freq[s[window_start]]\n",
    "            window_start += 1\n",
    "\n",
    "        # Check if the current window is an anagram of p\n",
    "        if s_freq == p_freq:\n",
    "            result.append(window_start)\n",
    "\n",
    "        window_end += 1\n",
    "\n",
    "    return result\n",
    "\n",
    "\n",
    "s = \"cbaebabacd\"\n",
    "p = \"abc\"\n",
    "output = findAnagrams(s, p)\n",
    "print(output)\n"
   ]
  },
  {
   "cell_type": "markdown",
   "id": "c3f532d6",
   "metadata": {},
   "source": [
    "\n",
    "💡 **Question 7**\n",
    "\n",
    "Given an encoded string, return its decoded string.\n",
    "\n",
    "The encoding rule is: k[encoded_string], where the encoded_string inside the square brackets is being repeated exactly k times. Note that k is guaranteed to be a positive integer.\n",
    "\n",
    "You may assume that the input string is always valid; there are no extra white spaces, square brackets are well-formed, etc. Furthermore, you may assume that the original data does not contain any digits and that digits are only for those repeat numbers, k. For example, there will not be input like 3a or 2[4].\n",
    "\n",
    "The test cases are generated so that the length of the output will never exceed 105.\n",
    "\n",
    "**Example 1:**\n",
    "\n",
    "**Input:** s = \"3[a]2[bc]\"\n",
    "\n",
    "**Output:** \"aaabcbc\"\n",
    "\n"
   ]
  },
  {
   "cell_type": "code",
   "execution_count": 22,
   "id": "2aa75adc",
   "metadata": {},
   "outputs": [
    {
     "name": "stdout",
     "output_type": "stream",
     "text": [
      "aaabcbc\n"
     ]
    }
   ],
   "source": [
    "def decodeString(s):\n",
    "    stack = []\n",
    "    current_string = \"\"\n",
    "    current_number = 0\n",
    "\n",
    "    for char in s:\n",
    "        if char.isdigit():\n",
    "            current_number = current_number * 10 + int(char)\n",
    "        elif char == \"[\":\n",
    "            stack.append((current_string, current_number))\n",
    "            current_string = \"\"\n",
    "            current_number = 0\n",
    "        elif char == \"]\":\n",
    "            prev_string, prev_number = stack.pop()\n",
    "            current_string = prev_string + current_string * prev_number\n",
    "        else:\n",
    "            current_string += char\n",
    "\n",
    "    return current_string\n",
    "\n",
    "\n",
    "s = \"3[a]2[bc]\"\n",
    "output = decodeString(s)\n",
    "print(output)\n"
   ]
  },
  {
   "cell_type": "markdown",
   "id": "8ed3ff60",
   "metadata": {},
   "source": [
    "\n",
    "💡 **Question 8**\n",
    "\n",
    "Given two strings s and goal, return true *if you can swap two letters in* s *so the result is equal to* goal*, otherwise, return* false*.*\n",
    "\n",
    "Swapping letters is defined as taking two indices i and j (0-indexed) such that i != j and swapping the characters at s[i] and s[j].\n",
    "\n",
    "- For example, swapping at indices 0 and 2 in \"abcd\" results in \"cbad\".\n",
    "\n",
    "**Example 1:**\n",
    "\n",
    "**Input:** s = \"ab\", goal = \"ba\"\n",
    "\n",
    "**Output:** true\n",
    "\n",
    "**Explanation:** You can swap s[0] = 'a' and s[1] = 'b' to get \"ba\", which is equal to goal.\n",
    "\n"
   ]
  },
  {
   "cell_type": "code",
   "execution_count": 23,
   "id": "1002bdbc",
   "metadata": {},
   "outputs": [
    {
     "name": "stdout",
     "output_type": "stream",
     "text": [
      "True\n"
     ]
    }
   ],
   "source": [
    "def buddyStrings(s, goal):\n",
    "    if len(s) != len(goal) or len(s) < 2:\n",
    "        return False\n",
    "\n",
    "    if s == goal:\n",
    "        # Check if there are at least two repeating characters in s\n",
    "        return len(set(s)) < len(s)\n",
    "\n",
    "    # Find the differing indices in s and goal\n",
    "    differing_indices = []\n",
    "    for i in range(len(s)):\n",
    "        if s[i] != goal[i]:\n",
    "            differing_indices.append(i)\n",
    "\n",
    "    # Check if there are exactly two differing indices\n",
    "    if len(differing_indices) != 2:\n",
    "        return False\n",
    "\n",
    "    # Check if swapping characters at the differing indices produces goal\n",
    "    return s[differing_indices[0]] == goal[differing_indices[1]] and \\\n",
    "           s[differing_indices[1]] == goal[differing_indices[0]]\n",
    "\n",
    "\n",
    "s = \"ab\"\n",
    "goal = \"ba\"\n",
    "output = buddyStrings(s, goal)\n",
    "print(output)\n"
   ]
  },
  {
   "cell_type": "code",
   "execution_count": null,
   "id": "28dbbfdc",
   "metadata": {},
   "outputs": [],
   "source": []
  }
 ],
 "metadata": {
  "kernelspec": {
   "display_name": "Python 3 (ipykernel)",
   "language": "python",
   "name": "python3"
  },
  "language_info": {
   "codemirror_mode": {
    "name": "ipython",
    "version": 3
   },
   "file_extension": ".py",
   "mimetype": "text/x-python",
   "name": "python",
   "nbconvert_exporter": "python",
   "pygments_lexer": "ipython3",
   "version": "3.9.7"
  }
 },
 "nbformat": 4,
 "nbformat_minor": 5
}
