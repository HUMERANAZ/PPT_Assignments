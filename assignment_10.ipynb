{
 "cells": [
  {
   "cell_type": "markdown",
   "id": "8bea0cab",
   "metadata": {},
   "source": [
    "# Assignment-10"
   ]
  },
  {
   "cell_type": "markdown",
   "id": "599388d4",
   "metadata": {},
   "source": [
    "**Question 1**\n",
    "Given an integer `n`, return *`true` if it is a power of three. Otherwise, return `false`*.\n",
    "\n",
    "An integer `n` is a power of three, if there exists an integer `x` such that `n == 3x`.\n",
    "\n",
    "**Example 1:**\n",
    "Input: n = 27\n",
    "Output: true\n",
    "Explanation: 27 = 33"
   ]
  },
  {
   "cell_type": "code",
   "execution_count": 4,
   "id": "e0631887",
   "metadata": {},
   "outputs": [
    {
     "name": "stdout",
     "output_type": "stream",
     "text": [
      "True\n",
      "False\n",
      "False\n"
     ]
    }
   ],
   "source": [
    "def isPowerOfThree(n):\n",
    "    if n == 1:\n",
    "        return True\n",
    "    elif n < 1:\n",
    "        return False\n",
    "    else:\n",
    "        return isPowerOfThree(n / 3)\n",
    "\n",
    "print(isPowerOfThree(27))  \n",
    "print(isPowerOfThree(-1))\n",
    "print(isPowerOfThree(35))"
   ]
  },
  {
   "cell_type": "markdown",
   "id": "b485d18b",
   "metadata": {},
   "source": [
    "\n",
    "💡 **Question 2**\n",
    "\n",
    "You have a list `arr` of all integers in the range `[1, n]` sorted in a strictly increasing order. Apply the following algorithm on `arr`:\n",
    "\n",
    "- Starting from left to right, remove the first number and every other number afterward until you reach the end of the list.\n",
    "- Repeat the previous step again, but this time from right to left, remove the rightmost number and every other number from the remaining numbers.\n",
    "- Keep repeating the steps again, alternating left to right and right to left, until a single number remains.\n",
    "\n",
    "Given the integer `n`, return *the last number that remains in* `arr`.\n",
    "\n",
    "**Example 1:**\n",
    "\n",
    "```\n",
    "Input: n = 9\n",
    "Output: 6\n",
    "Explanation:\n",
    "arr = [1, 2,3, 4,5, 6,7, 8,9]\n",
    "arr = [2,4, 6,8]\n",
    "arr = [2, 6]\n",
    "arr = [6]\n",
    "\n",
    "```\n",
    "\n",
    "**Example 2:**\n"
   ]
  },
  {
   "cell_type": "code",
   "execution_count": 6,
   "id": "fe051da2",
   "metadata": {},
   "outputs": [
    {
     "name": "stdout",
     "output_type": "stream",
     "text": [
      "6\n"
     ]
    }
   ],
   "source": [
    "def lastRemaining(n):\n",
    "    if n == 1:\n",
    "        return 1\n",
    "    return 2 * (n // 2 + 1 - lastRemaining(n // 2))\n",
    "\n",
    "\n",
    "    \n",
    "print(lastRemaining(9))  "
   ]
  },
  {
   "cell_type": "markdown",
   "id": "edb20a6d",
   "metadata": {},
   "source": [
    "\n",
    "💡 **Question 3**\n",
    "\n",
    "****Given a set represented as a string, write a recursive code to print all subsets of it. The subsets can be printed in any order.\n",
    "\n",
    "**Example 1:**\n",
    "\n",
    "Input :  set = “abc”\n",
    "\n",
    "Output : { “”, “a”, “b”, “c”, “ab”, “ac”, “bc”, “abc”}\n",
    "\n",
    "**Example 2:**\n",
    "\n",
    "Input : set = “abcd”\n",
    "\n",
    "Output : { “”, “a” ,”ab” ,”abc” ,”abcd”, “abd” ,”ac” ,”acd”, “ad” ,”b”, “bc” ,”bcd” ,”bd” ,”c” ,”cd” ,”d” }\n",
    "\n"
   ]
  },
  {
   "cell_type": "code",
   "execution_count": 8,
   "id": "e7c1fb1c",
   "metadata": {},
   "outputs": [
    {
     "name": "stdout",
     "output_type": "stream",
     "text": [
      "\n",
      "c\n",
      "b\n",
      "bc\n",
      "a\n",
      "ac\n",
      "ab\n",
      "abc\n",
      "\n",
      "d\n",
      "c\n",
      "cd\n",
      "b\n",
      "bd\n",
      "bc\n",
      "bcd\n",
      "a\n",
      "ad\n",
      "ac\n",
      "acd\n",
      "ab\n",
      "abd\n",
      "abc\n",
      "abcd\n"
     ]
    }
   ],
   "source": [
    "def printSubsets(s, current=\"\", index=0):\n",
    "    if index == len(s):\n",
    "        print(current)\n",
    "        return\n",
    "    printSubsets(s, current, index + 1)  # Exclude current character\n",
    "    printSubsets(s, current + s[index], index + 1)  # Include current character\n",
    "\n",
    "\n",
    "def printAllSubsets(s):\n",
    "    printSubsets(s)\n",
    "    \n",
    "    \n",
    "printAllSubsets(\"abc\")\n",
    "printAllSubsets(\"abcd\")\n",
    "\n"
   ]
  },
  {
   "cell_type": "markdown",
   "id": "ba30f8ad",
   "metadata": {},
   "source": [
    "\n",
    "💡 **Question 4**\n",
    "\n",
    "Given a string calculate length of the string using recursion.\n",
    "\n",
    "**Examples:**\n",
    "\n",
    "Input : str = \"abcd\"\n",
    "Output :4\n",
    "\n",
    "Input : str = \"GEEKSFORGEEKS\"\n",
    "Output :13"
   ]
  },
  {
   "cell_type": "code",
   "execution_count": 9,
   "id": "3e3645a6",
   "metadata": {},
   "outputs": [
    {
     "name": "stdout",
     "output_type": "stream",
     "text": [
      "4\n",
      "13\n"
     ]
    }
   ],
   "source": [
    "def countDistinctCharacters(s):\n",
    "    if len(s) == 0:\n",
    "        return 0\n",
    "    distinctChars = set(s[0])\n",
    "    return len(distinctChars) + countDistinctCharacters(s[1:])\n",
    "\n",
    "\n",
    "# Test the function\n",
    "print(countDistinctCharacters(\"abcd\"))  # 4\n",
    "print(countDistinctCharacters(\"GEEKSFORGEEKS\"))  # 13\n"
   ]
  },
  {
   "cell_type": "markdown",
   "id": "5dce8c4a",
   "metadata": {},
   "source": [
    "\n",
    "💡 **Question 5**\n",
    "\n",
    "We are given a string S, we need to find count of all contiguous substrings starting and ending with same character.\n",
    "\n",
    "**Examples :**\n",
    "    \n",
    "    Input  : S = \"abcab\"\n",
    "Output : 7\n",
    "There are 15 substrings of \"abcab\"\n",
    "a, ab, abc, abca, abcab, b, bc, bca\n",
    "bcab, c, ca, cab, a, ab, b\n",
    "Out of the above substrings, there\n",
    "are 7 substrings : a, abca, b, bcab,\n",
    "c, a and b.\n",
    "\n",
    "Input  : S = \"aba\"\n",
    "Output : 4\n",
    "The substrings are a, b, a and aba\n",
    "\n"
   ]
  },
  {
   "cell_type": "code",
   "execution_count": 13,
   "id": "8d02d47d",
   "metadata": {},
   "outputs": [
    {
     "name": "stdout",
     "output_type": "stream",
     "text": [
      "12\n",
      "5\n"
     ]
    }
   ],
   "source": [
    "def countDistinctSubstrings(s):\n",
    "    distinctSubstrings = set()\n",
    "    countDistinctSubstringsRecursive(s, distinctSubstrings)\n",
    "    return len(distinctSubstrings)\n",
    "\n",
    "\n",
    "def countDistinctSubstringsRecursive(s, distinctSubstrings):\n",
    "    if len(s) == 0:\n",
    "        return\n",
    "\n",
    "    distinctSubstrings.add(s)\n",
    "\n",
    "    for i in range(len(s)):\n",
    "        countDistinctSubstringsRecursive(s[:i], distinctSubstrings)\n",
    "        countDistinctSubstringsRecursive(s[i + 1:], distinctSubstrings)\n",
    "\n",
    "\n",
    "# Test the function\n",
    "print(countDistinctSubstrings(\"abcab\"))  # 7\n",
    "print(countDistinctSubstrings(\"aba\"))  # 4\n",
    "\n"
   ]
  },
  {
   "cell_type": "markdown",
   "id": "27179827",
   "metadata": {},
   "source": [
    "\n",
    "💡 **Question 6**\n",
    "\n",
    "The [tower of Hanoi](https://en.wikipedia.org/wiki/Tower_of_Hanoi) is a famous puzzle where we have three rods and **N** disks. The objective of the puzzle is to move the entire stack to another rod. You are given the number of discs **N**. Initially, these discs are in the rod 1. You need to print all the steps of discs movement so that all the discs reach the 3rd rod. Also, you need to find the total moves.**Note:** The discs are arranged such that the **top disc is numbered 1** and the **bottom-most disc is numbered N**. Also, all the discs have **different sizes** and a bigger disc **cannot** be put on the top of a smaller disc. Refer the provided link to get a better clarity about the puzzle.\n",
    "\n",
    "**Example 1:**\n",
    "    Input:\n",
    "N = 2\n",
    "Output:\n",
    "move disk 1 from rod 1 to rod 2\n",
    "move disk 2 from rod 1 to rod 3\n",
    "move disk 1 from rod 2 to rod 3\n",
    "3\n",
    "Explanation:For N=2 , steps will be\n",
    "as follows in the example and total\n",
    "3 steps will be taken.\n"
   ]
  },
  {
   "cell_type": "code",
   "execution_count": 14,
   "id": "52065de1",
   "metadata": {},
   "outputs": [
    {
     "name": "stdout",
     "output_type": "stream",
     "text": [
      "Move disk 1 from rod 1 to rod 2\n",
      "Move disk 2 from rod 1 to rod 3\n",
      "Move disk 1 from rod 2 to rod 3\n",
      "Total moves: 3\n"
     ]
    }
   ],
   "source": [
    "def towerOfHanoi(n, source, destination, auxiliary):\n",
    "    if n == 1:\n",
    "        print(\"Move disk 1 from rod\", source, \"to rod\", destination)\n",
    "        return 1\n",
    "    moves = 0\n",
    "    moves += towerOfHanoi(n - 1, source, auxiliary, destination)\n",
    "    print(\"Move disk\", n, \"from rod\", source, \"to rod\", destination)\n",
    "    moves += 1\n",
    "    moves += towerOfHanoi(n - 1, auxiliary, destination, source)\n",
    "    return moves\n",
    "\n",
    "\n",
    "# Test the function\n",
    "N = 2\n",
    "totalMoves = towerOfHanoi(N, 1, 3, 2)\n",
    "print(\"Total moves:\", totalMoves)\n"
   ]
  },
  {
   "cell_type": "markdown",
   "id": "3809fd69",
   "metadata": {},
   "source": [
    "\n",
    "💡 **Question 7**\n",
    "\n",
    "Given a string **str**, the task is to print all the permutations of **str**. A **permutation** is an arrangement of all or part of a set of objects, with regard to the order of the arrangement. For instance, the words ‘bat’ and ‘tab’ represents two distinct permutation (or arrangements) of a similar three letter word.\n",
    "\n",
    "**Examples:**\n",
    "\n",
    "> Input: str = “cd”\n",
    "> \n",
    "> \n",
    "> **Output:** cd dc\n",
    "> \n",
    "> **Input:** str = “abb”\n",
    "> \n",
    "> **Output:** abb abb bab bba bab bba\n",
    "> \n"
   ]
  },
  {
   "cell_type": "code",
   "execution_count": 15,
   "id": "b9d5c10e",
   "metadata": {},
   "outputs": [
    {
     "name": "stdout",
     "output_type": "stream",
     "text": [
      "['cd', 'dc']\n",
      "['abb', 'abb', 'bab', 'bba', 'bba', 'bab']\n"
     ]
    }
   ],
   "source": [
    "def permutations(s):\n",
    "    result = []\n",
    "    permutationsRecursive(list(s), 0, len(s) - 1, result)\n",
    "    return result\n",
    "\n",
    "\n",
    "def permutationsRecursive(arr, left, right, result):\n",
    "    if left == right:\n",
    "        result.append(''.join(arr))\n",
    "    else:\n",
    "        for i in range(left, right + 1):\n",
    "            arr[left], arr[i] = arr[i], arr[left]\n",
    "            permutationsRecursive(arr, left + 1, right, result)\n",
    "            arr[left], arr[i] = arr[i], arr[left]  # backtrack\n",
    "\n",
    "\n",
    "# Test the function\n",
    "print(permutations(\"cd\"))  \n",
    "print(permutations(\"abb\")) \n"
   ]
  },
  {
   "cell_type": "code",
   "execution_count": null,
   "id": "343fecf7",
   "metadata": {},
   "outputs": [],
   "source": []
  }
 ],
 "metadata": {
  "kernelspec": {
   "display_name": "Python 3 (ipykernel)",
   "language": "python",
   "name": "python3"
  },
  "language_info": {
   "codemirror_mode": {
    "name": "ipython",
    "version": 3
   },
   "file_extension": ".py",
   "mimetype": "text/x-python",
   "name": "python",
   "nbconvert_exporter": "python",
   "pygments_lexer": "ipython3",
   "version": "3.9.7"
  }
 },
 "nbformat": 4,
 "nbformat_minor": 5
}
