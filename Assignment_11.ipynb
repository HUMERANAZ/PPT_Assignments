{
 "cells": [
  {
   "cell_type": "markdown",
   "id": "194ddc49",
   "metadata": {},
   "source": [
    "# Assignment-11(Binary Search)"
   ]
  },
  {
   "cell_type": "markdown",
   "id": "11ec3d32",
   "metadata": {},
   "source": [
    "\n",
    "💡 **Question 1**\n",
    "\n",
    "Given a non-negative integer `x`, return *the square root of* `x` *rounded down to the nearest integer*. The returned integer should be **non-negative** as well.\n",
    "\n",
    "You **must not use** any built-in exponent function or operator.\n",
    "\n",
    "- For example, do not use `pow(x, 0.5)` in c++ or `x ** 0.5` in python.\n",
    "\n",
    "**Example 1:**\n",
    "    Input: x = 4\n",
    "Output: 2\n",
    "Explanation: The square root of 4 is 2, so we return 2.\n",
    "\n",
    "\n"
   ]
  },
  {
   "cell_type": "code",
   "execution_count": 7,
   "id": "52495837",
   "metadata": {},
   "outputs": [
    {
     "name": "stdout",
     "output_type": "stream",
     "text": [
      "3\n",
      "2\n"
     ]
    }
   ],
   "source": [
    "def square_root(x):\n",
    "    low = 0\n",
    "    high = x\n",
    "    while low < high:\n",
    "        mid = (low + high) // 2\n",
    "        if mid * mid <= x:\n",
    "            low = mid + 1\n",
    "        else:\n",
    "            high = mid\n",
    "    return low - 1\n",
    "\n",
    "x = 9\n",
    "y=8\n",
    "print(square_root(x))\n",
    "print(square_root(y))"
   ]
  },
  {
   "cell_type": "markdown",
   "id": "636df64d",
   "metadata": {},
   "source": [
    "\n",
    "💡 **Question 2**\n",
    "\n",
    "A peak element is an element that is strictly greater than its neighbors.\n",
    "\n",
    "Given a **0-indexed** integer array `nums`, find a peak element, and return its index. If the array contains multiple peaks, return the index to **any of the peaks**.\n",
    "\n",
    "You may imagine that `nums[-1] = nums[n] = -∞`. In other words, an element is always considered to be strictly greater than a neighbor that is outside the array.\n",
    "\n",
    "You must write an algorithm that runs in `O(log n)` time.\n",
    "\n",
    "**Example 1:**\n",
    "\n",
    "Input: nums = [1,2,3,1]\n",
    "Output: 2\n",
    "Explanation: 3 is a peak element and your function should return the index number 2."
   ]
  },
  {
   "cell_type": "code",
   "execution_count": 9,
   "id": "e19eafc7",
   "metadata": {},
   "outputs": [
    {
     "name": "stdout",
     "output_type": "stream",
     "text": [
      "2\n",
      "5\n"
     ]
    }
   ],
   "source": [
    "def findPeakElement(nums):\n",
    "    left, right = 0, len(nums) - 1\n",
    "\n",
    "    while left < right:\n",
    "        mid = left + (right - left) // 2\n",
    "        if nums[mid] < nums[mid + 1]:\n",
    "            left = mid + 1\n",
    "        else:\n",
    "            right = mid\n",
    "\n",
    "    return left\n",
    "\n",
    "\n",
    "nums = [1, 2, 3, 1]\n",
    "peak_index = findPeakElement(nums)\n",
    "print(peak_index)\n",
    "\n",
    "nums1 = [1,2,1,3,5,6,4]\n",
    "peak_index = findPeakElement(nums1)\n",
    "print(peak_index)"
   ]
  },
  {
   "cell_type": "markdown",
   "id": "d318d45e",
   "metadata": {},
   "source": [
    "\n",
    "💡 **Question 3**\n",
    "\n",
    "****\n",
    "\n",
    "Given an array `nums` containing `n` distinct numbers in the range `[0, n]`, return *the only number in the range that is missing from the array.*\n",
    "\n",
    "**Example 1:**\n",
    "    \n",
    "Input: nums = [3,0,1]\n",
    "Output: 2\n",
    "Explanation: n = 3 since there are 3 numbers, so all numbers are in the range [0,3]. 2 is the missing number in the range since it does not appear in nums.\n",
    "\n"
   ]
  },
  {
   "cell_type": "code",
   "execution_count": 12,
   "id": "d995633e",
   "metadata": {},
   "outputs": [
    {
     "name": "stdout",
     "output_type": "stream",
     "text": [
      "2\n",
      "8\n"
     ]
    }
   ],
   "source": [
    "def missingNumber(nums):\n",
    "    n = len(nums)\n",
    "    missing = n\n",
    "\n",
    "    for i, num in enumerate(nums):\n",
    "        missing ^= num ^ i\n",
    "\n",
    "    return missing\n",
    "\n",
    "\n",
    "nums = [3, 0, 1]\n",
    "missing_num = missingNumber(nums)\n",
    "print(missing_num)\n",
    "\n",
    "nums1 = [9,6,4,2,3,5,7,0,1]\n",
    "missing_num = missingNumber(nums1)\n",
    "print(missing_num)"
   ]
  },
  {
   "cell_type": "markdown",
   "id": "604c4559",
   "metadata": {},
   "source": [
    "\n",
    "💡 **Question 4**\n",
    "\n",
    "Given an array of integers `nums` containing `n + 1` integers where each integer is in the range `[1, n]` inclusive.\n",
    "\n",
    "There is only **one repeated number** in `nums`, return *this repeated number*.\n",
    "\n",
    "You must solve the problem **without** modifying the array `nums` and uses only constant extra space.\n",
    "\n",
    "**Example 1:**\n",
    "Input: nums = [1,3,4,2,2]\n",
    "Output: 2\n"
   ]
  },
  {
   "cell_type": "code",
   "execution_count": 13,
   "id": "ae5d965d",
   "metadata": {},
   "outputs": [
    {
     "name": "stdout",
     "output_type": "stream",
     "text": [
      "2\n"
     ]
    }
   ],
   "source": [
    "def findDuplicate(nums):\n",
    "    slow = nums[0]\n",
    "    fast = nums[0]\n",
    "\n",
    "    # Move slow and fast pointers until they meet\n",
    "    while True:\n",
    "        slow = nums[slow]\n",
    "        fast = nums[nums[fast]]\n",
    "        if slow == fast:\n",
    "            break\n",
    "\n",
    "   \n",
    "    slow = nums[0]\n",
    "\n",
    "    \n",
    "    while slow != fast:\n",
    "        slow = nums[slow]\n",
    "        fast = nums[fast]\n",
    "\n",
    "    return slow\n",
    "\n",
    "\n",
    "nums = [1, 3, 4, 2, 2]\n",
    "repeated_num = findDuplicate(nums)\n",
    "print(repeated_num)\n"
   ]
  },
  {
   "cell_type": "markdown",
   "id": "a8cfe4aa",
   "metadata": {},
   "source": [
    "\n",
    "💡 **Question 5**\n",
    "\n",
    "Given two integer arrays `nums1` and `nums2`, return *an array of their intersection*. Each element in the result must be **unique** and you may return the result in **any order**.\n",
    "\n",
    "**Example 1:**\n",
    "    Input: nums1 = [1,2,2,1], nums2 = [2,2]\n",
    "Output: [2]\n",
    "\n"
   ]
  },
  {
   "cell_type": "code",
   "execution_count": 14,
   "id": "2c348555",
   "metadata": {},
   "outputs": [
    {
     "name": "stdout",
     "output_type": "stream",
     "text": [
      "[2]\n"
     ]
    }
   ],
   "source": [
    "def intersection(nums1, nums2):\n",
    "    set1 = set(nums1)\n",
    "    set2 = set(nums2)\n",
    "    intersection = set()\n",
    "\n",
    "    for num in set1:\n",
    "        if num in set2:\n",
    "            intersection.add(num)\n",
    "\n",
    "    return list(intersection)\n",
    "\n",
    "# Example usage\n",
    "nums1 = [1, 2, 2, 1]\n",
    "nums2 = [2, 2]\n",
    "result = intersection(nums1, nums2)\n",
    "print(result)\n"
   ]
  },
  {
   "cell_type": "markdown",
   "id": "5983a08c",
   "metadata": {},
   "source": [
    "\n",
    "💡 **Question 6**\n",
    "\n",
    "Suppose an array of length `n` sorted in ascending order is **rotated** between `1` and `n` times. For example, the array `nums = [0,1,2,4,5,6,7]` might become:\n",
    "\n",
    "- `[4,5,6,7,0,1,2]` if it was rotated `4` times.\n",
    "- `[0,1,2,4,5,6,7]` if it was rotated `7` times.\n",
    "\n",
    "Notice that **rotating** an array `[a[0], a[1], a[2], ..., a[n-1]]` 1 time results in the array `[a[n-1], a[0], a[1], a[2], ..., a[n-2]]`.\n",
    "\n",
    "Given the sorted rotated array `nums` of **unique** elements, return *the minimum element of this array*.\n",
    "\n",
    "You must write an algorithm that runs in `O(log n) time.`\n",
    "\n",
    "**Example 1:**\n",
    "Input: nums = [3,4,5,1,2]\n",
    "Output: 1\n",
    "Explanation: The original array was [1,2,3,4,5] rotated 3 times.\n",
    "\n"
   ]
  },
  {
   "cell_type": "code",
   "execution_count": 15,
   "id": "9867acbf",
   "metadata": {},
   "outputs": [
    {
     "name": "stdout",
     "output_type": "stream",
     "text": [
      "1\n"
     ]
    }
   ],
   "source": [
    "def findMin(nums):\n",
    "    left, right = 0, len(nums) - 1\n",
    "\n",
    "    while left < right:\n",
    "        mid = left + (right - left) // 2\n",
    "\n",
    "        if nums[mid] > nums[right]:\n",
    "            left = mid + 1\n",
    "        else:\n",
    "            right = mid\n",
    "\n",
    "    return nums[left]\n",
    "\n",
    "\n",
    "nums = [3, 4, 5, 1, 2]\n",
    "min_element = findMin(nums)\n",
    "print(min_element)\n"
   ]
  },
  {
   "cell_type": "markdown",
   "id": "d5c408de",
   "metadata": {},
   "source": [
    "\n",
    "💡 **Question 7**\n",
    "\n",
    "Given an array of integers `nums` sorted in non-decreasing order, find the starting and ending position of a given `target` value.\n",
    "\n",
    "If `target` is not found in the array, return `[-1, -1]`.\n",
    "\n",
    "You must write an algorithm with `O(log n)` runtime complexity.\n",
    "Example 1:\n",
    "    Input: nums = [5,7,7,8,8,10], target = 8\n",
    "Output: [3,4]\n",
    "\n"
   ]
  },
  {
   "cell_type": "code",
   "execution_count": 17,
   "id": "62d517d3",
   "metadata": {},
   "outputs": [
    {
     "name": "stdout",
     "output_type": "stream",
     "text": [
      "[3, 4]\n"
     ]
    }
   ],
   "source": [
    "def searchRange(nums, target):\n",
    "    start, end = -1, -1\n",
    "\n",
    "    # Binary search for starting position\n",
    "    left, right = 0, len(nums) - 1\n",
    "    while left <= right:\n",
    "        mid = left + (right - left) // 2\n",
    "        if nums[mid] == target:\n",
    "            start = mid\n",
    "            right = mid - 1\n",
    "        elif nums[mid] < target:\n",
    "            left = mid + 1\n",
    "        else:\n",
    "            right = mid - 1\n",
    "\n",
    "    # Binary search for ending position\n",
    "    left, right = 0, len(nums) - 1\n",
    "    while left <= right:\n",
    "        mid = left + (right - left) // 2\n",
    "        if nums[mid] == target:\n",
    "            end = mid\n",
    "            left = mid + 1\n",
    "        elif nums[mid] < target:\n",
    "            left = mid + 1\n",
    "        else:\n",
    "            right = mid - 1\n",
    "\n",
    "    return [start, end]\n",
    "\n",
    "# Example usage\n",
    "nums = [5, 7, 7, 8, 8, 10]\n",
    "target = 8\n",
    "result = searchRange(nums, target)\n",
    "print(result)\n"
   ]
  },
  {
   "cell_type": "markdown",
   "id": "bf28ddd2",
   "metadata": {},
   "source": [
    "\n",
    "💡 **Question 8**\n",
    "\n",
    "Given two integer arrays `nums1` and `nums2`, return *an array of their intersection*. Each element in the result must appear as many times as it shows in both arrays and you may return the result in **any order**.\n",
    "\n",
    "**Example 1:**\n",
    "    Input: nums1 = [1,2,2,1], nums2 = [2,2]\n",
    "Output: [2,2]\n"
   ]
  },
  {
   "cell_type": "code",
   "execution_count": 18,
   "id": "c946553c",
   "metadata": {},
   "outputs": [
    {
     "name": "stdout",
     "output_type": "stream",
     "text": [
      "[2, 2]\n"
     ]
    }
   ],
   "source": [
    "from collections import defaultdict\n",
    "\n",
    "def intersect(nums1, nums2):\n",
    "    freqMap1 = defaultdict(int)\n",
    "    freqMap2 = defaultdict(int)\n",
    "\n",
    "    # Count frequencies of elements in nums1\n",
    "    for num in nums1:\n",
    "        freqMap1[num] += 1\n",
    "\n",
    "    # Count frequencies of elements in nums2\n",
    "    for num in nums2:\n",
    "        freqMap2[num] += 1\n",
    "\n",
    "    intersection = []\n",
    "\n",
    "    # Find intersecting elements with count\n",
    "    for num in nums1:\n",
    "        if freqMap1[num] > 0 and freqMap2[num] > 0:\n",
    "            intersection.append(num)\n",
    "            freqMap1[num] -= 1\n",
    "            freqMap2[num] -= 1\n",
    "\n",
    "    return intersection\n",
    "\n",
    "# Example usage\n",
    "nums1 = [1, 2, 2, 1]\n",
    "nums2 = [2, 2]\n",
    "result = intersect(nums1, nums2)\n",
    "print(result)\n"
   ]
  }
 ],
 "metadata": {
  "kernelspec": {
   "display_name": "Python 3 (ipykernel)",
   "language": "python",
   "name": "python3"
  },
  "language_info": {
   "codemirror_mode": {
    "name": "ipython",
    "version": 3
   },
   "file_extension": ".py",
   "mimetype": "text/x-python",
   "name": "python",
   "nbconvert_exporter": "python",
   "pygments_lexer": "ipython3",
   "version": "3.9.7"
  }
 },
 "nbformat": 4,
 "nbformat_minor": 5
}
