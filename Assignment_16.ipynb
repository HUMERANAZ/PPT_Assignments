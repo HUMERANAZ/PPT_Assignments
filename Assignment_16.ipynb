{
 "cells": [
  {
   "cell_type": "markdown",
   "id": "7869e8a9",
   "metadata": {},
   "source": [
    "# Assignment-16"
   ]
  },
  {
   "cell_type": "markdown",
   "id": "e4920481",
   "metadata": {},
   "source": [
    "\n",
    "💡 **Question 1**\n",
    "\n",
    "Given an array, for each element find the value of the nearest element to the right which is having a frequency greater than that of the current element. If there does not exist an answer for a position, then make the value ‘-1’.\n",
    "\n",
    "**Examples:**\n",
    "Input: a[] = [1, 1, 2, 3, 4, 2, 1]\n",
    "Output : [-1, -1, 1, 2, 2, 1, -1]\n",
    "\n",
    "Explanation:\n",
    "Given array a[] = [1, 1, 2, 3, 4, 2, 1]\n",
    "Frequency of each element is: 3, 3, 2, 1, 1, 2, 3\n",
    "\n",
    "Lets calls Next Greater Frequency element as NGF\n",
    "1. For element a[0] = 1 which has a frequency = 3,\n",
    "   As it has frequency of 3 and no other next element\n",
    "   has frequency more than 3 so  '-1'\n",
    "2. For element a[1] = 1 it will be -1 same logic\n",
    "   like a[0]\n",
    "3. For element a[2] = 2 which has frequency = 2,\n",
    "   NGF element is 1 at position = 6  with frequency\n",
    "   of 3 > 2\n",
    "4. For element a[3] = 3 which has frequency = 1,\n",
    "   NGF element is 2 at position = 5 with frequency\n",
    "   of 2 > 1\n",
    "5. For element a[4] = 4 which has frequency = 1,\n",
    "   NGF element is 2 at position = 5 with frequency\n",
    "   of 2 > 1\n",
    "6. For element a[5] = 2 which has frequency = 2,\n",
    "   NGF element is 1 at position = 6 with frequency\n",
    "   of 3 > 2\n",
    "7. For element a[6] = 1 there is no element to its\n",
    "   right, hence -1\n"
   ]
  },
  {
   "cell_type": "code",
   "execution_count": 1,
   "id": "711d5728",
   "metadata": {},
   "outputs": [
    {
     "name": "stdout",
     "output_type": "stream",
     "text": [
      "[-1, -1, 1, 2, 2, 1, -1]\n"
     ]
    }
   ],
   "source": [
    "def findNearestGreaterFrequency(arr):\n",
    "    freq_dict = {}\n",
    "    stack = []\n",
    "    result = []\n",
    "\n",
    "    # Traverse the array from right to left and create the frequency dictionary\n",
    "    for num in reversed(arr):\n",
    "        freq_dict[num] = freq_dict.get(num, 0) + 1\n",
    "\n",
    "    # Traverse the array from right to left to find the nearest greater frequency elements\n",
    "    for num in reversed(arr):\n",
    "        while stack and freq_dict[num] >= freq_dict[stack[-1]]:\n",
    "            stack.pop()\n",
    "\n",
    "        if not stack:\n",
    "            result.append(-1)\n",
    "        else:\n",
    "            result.append(stack[-1])\n",
    "\n",
    "        stack.append(num)\n",
    "\n",
    "    # Reverse the result array\n",
    "    result.reverse()\n",
    "    return result\n",
    "\n",
    "\n",
    "arr = [1, 1, 2, 3, 4, 2, 1]\n",
    "result = findNearestGreaterFrequency(arr)\n",
    "print(result)\n"
   ]
  },
  {
   "cell_type": "markdown",
   "id": "e64dfbc1",
   "metadata": {},
   "source": [
    "\n",
    "💡 **Question 2**\n",
    "\n",
    "Given a stack of integers, sort it in ascending order using another temporary stack.\n",
    "\n",
    "**Examples:**\n",
    "Input : [34, 3, 31, 98, 92, 23]\n",
    "Output : [3, 23, 31, 34, 92, 98]\n",
    "\n",
    "Input : [3, 5, 1, 4, 2, 8]\n",
    "Output : [1, 2, 3, 4, 5, 8]"
   ]
  },
  {
   "cell_type": "code",
   "execution_count": 3,
   "id": "5f567060",
   "metadata": {},
   "outputs": [
    {
     "name": "stdout",
     "output_type": "stream",
     "text": [
      "[3, 23, 31, 34, 92, 98]\n"
     ]
    }
   ],
   "source": [
    "def sortStack(stack):\n",
    "    temp_stack = []\n",
    "\n",
    "    while stack:\n",
    "        temp = stack.pop()\n",
    "\n",
    "        while temp_stack and temp_stack[-1] < temp:  # Modify the comparison condition\n",
    "            stack.append(temp_stack.pop())\n",
    "\n",
    "        temp_stack.append(temp)\n",
    "\n",
    "    while temp_stack:\n",
    "        stack.append(temp_stack.pop())\n",
    "\n",
    "    return stack\n",
    "\n",
    "# Example usage\n",
    "stack = [34, 3, 31, 98, 92, 23]\n",
    "sorted_stack = sortStack(stack)\n",
    "print(sorted_stack)\n",
    "\n"
   ]
  },
  {
   "cell_type": "markdown",
   "id": "12a18517",
   "metadata": {},
   "source": [
    "\n",
    "💡 **Question 3**\n",
    "\n",
    "Given a stack with **push()**, **pop()**, and **empty()** operations, The task is to delete the **middle** element ****of it without using any additional data structure.\n",
    "\n",
    "Input  : Stack[] = [1, 2, 3, 4, 5]\n",
    "\n",
    "Output : Stack[] = [1, 2, 4, 5]\n",
    "\n",
    "Input  : Stack[] = [1, 2, 3, 4, 5, 6]\n",
    "\n",
    "Output : Stack[] = [1, 2, 4, 5, 6]\n"
   ]
  },
  {
   "cell_type": "code",
   "execution_count": 4,
   "id": "617a9cd7",
   "metadata": {},
   "outputs": [
    {
     "name": "stdout",
     "output_type": "stream",
     "text": [
      "[1, 2, 4, 5]\n"
     ]
    }
   ],
   "source": [
    "def deleteMiddle(stack, pos, mid):\n",
    "    if pos == mid:\n",
    "        stack.pop()\n",
    "        return\n",
    "    \n",
    "    temp = stack.pop()\n",
    "    deleteMiddle(stack, pos + 1, mid)\n",
    "    stack.append(temp)\n",
    "\n",
    "def deleteMiddleElement(stack):\n",
    "    size = len(stack)\n",
    "    mid = size // 2 + 1 if size % 2 != 0 else size // 2\n",
    "    deleteMiddle(stack, 1, mid)\n",
    "    return stack\n",
    "\n",
    "# Example usage\n",
    "stack = [1, 2, 3, 4, 5]\n",
    "modified_stack = deleteMiddleElement(stack)\n",
    "print(modified_stack)\n"
   ]
  },
  {
   "cell_type": "markdown",
   "id": "7ebf7195",
   "metadata": {},
   "source": [
    "\n",
    "💡 **Question 4**\n",
    "\n",
    "Given a Queue consisting of first **n** natural numbers (in random order). The task is to check whether the given Queue elements can be arranged in increasing order in another Queue using a stack. The operation allowed are:\n",
    "\n",
    "1. Push and pop elements from the stack\n",
    "2. Pop (Or Dequeue) from the given Queue.\n",
    "3. Push (Or Enqueue) in the another Queue.\n",
    "\n",
    "**Examples :**\n",
    "\n",
    "Input : Queue[] = { 5, 1, 2, 3, 4 } \n",
    "\n",
    "Output : Yes \n",
    "\n",
    "Pop the first element of the given Queue \n",
    "\n",
    "i.e 5. Push 5 into the stack. \n",
    "\n",
    "Now, pop all the elements of the given Queue and push them to second Queue. \n",
    "\n",
    "Now, pop element 5 in the stack and push it to the second Queue.   \n",
    "\n",
    "Input : Queue[] = { 5, 1, 2, 6, 3, 4 } \n",
    "\n",
    "Output : No \n",
    "\n",
    "Push 5 to stack. \n",
    "\n",
    "Pop 1, 2 from given Queue and push it to another Queue. \n",
    "\n",
    "Pop 6 from given Queue and push to stack. \n",
    "\n",
    "Pop 3, 4 from given Queue and push to second Queue. \n",
    "\n",
    "Now, from using any of above operation, we cannot push 5 into the second Queue because it is below the 6 in the stack.\n",
    "\n"
   ]
  },
  {
   "cell_type": "code",
   "execution_count": 6,
   "id": "531b594e",
   "metadata": {},
   "outputs": [
    {
     "name": "stdout",
     "output_type": "stream",
     "text": [
      "No\n"
     ]
    }
   ],
   "source": [
    "from queue import Queue\n",
    "\n",
    "def checkOrder(queue):\n",
    "    stack = []\n",
    "    secondQueue = Queue()\n",
    "    expected = 1\n",
    "\n",
    "    while not queue.empty():\n",
    "        if not stack:\n",
    "            stack.append(queue.get())\n",
    "        elif stack[-1] == expected:\n",
    "            secondQueue.put(stack.pop())\n",
    "            expected += 1\n",
    "        elif stack[-1] < queue.queue[0]:\n",
    "            stack.append(queue.get())\n",
    "        else:\n",
    "            return \"No\"\n",
    "\n",
    "    while stack:\n",
    "        secondQueue.put(stack.pop())\n",
    "\n",
    "    while not secondQueue.empty():\n",
    "        if secondQueue.get() != expected:\n",
    "            return \"No\"\n",
    "        expected += 1\n",
    "\n",
    "    return \"Yes\"\n",
    "\n",
    "# Example usage\n",
    "queue = Queue()\n",
    "queue.put(5)\n",
    "queue.put(1)\n",
    "queue.put(2)\n",
    "queue.put(3)\n",
    "queue.put(4)\n",
    "result = checkOrder(queue)\n",
    "print(result)\n"
   ]
  },
  {
   "cell_type": "markdown",
   "id": "e62f9ab0",
   "metadata": {},
   "source": [
    "\n",
    "💡 **Question 5**\n",
    "\n",
    "Given a number , write a program to reverse this number using stack.\n",
    "\n",
    "**Examples:**\n",
    "Input : 365\n",
    "Output : 563\n",
    "\n",
    "Input : 6899\n",
    "Output : 9986"
   ]
  },
  {
   "cell_type": "code",
   "execution_count": 7,
   "id": "9b8dbb71",
   "metadata": {},
   "outputs": [
    {
     "name": "stdout",
     "output_type": "stream",
     "text": [
      "563\n"
     ]
    }
   ],
   "source": [
    "def reverseNumber(num):\n",
    "    num_str = str(num)\n",
    "    stack = []\n",
    "    \n",
    "    for char in num_str:\n",
    "        stack.append(char)\n",
    "        \n",
    "    reversed_num_str = \"\"\n",
    "    \n",
    "    while stack:\n",
    "        reversed_num_str += stack.pop()\n",
    "        \n",
    "    reversed_num = int(reversed_num_str)\n",
    "    \n",
    "    return reversed_num\n",
    "\n",
    "# Example usage\n",
    "number = 365\n",
    "reversed_number = reverseNumber(number)\n",
    "print(reversed_number)\n"
   ]
  },
  {
   "cell_type": "markdown",
   "id": "7edbee0d",
   "metadata": {},
   "source": [
    "\n",
    "💡 **Question 6**\n",
    "\n",
    "Given an integer k and a **[queue](https://www.geeksforgeeks.org/queue-data-structure/)** of integers, The task is to reverse the order of the first **k** elements of the queue, leaving the other elements in the same relative order.\n",
    "\n",
    "Only following standard operations are allowed on queue.\n",
    "\n",
    "- **enqueue(x) :** Add an item x to rear of queue\n",
    "- **dequeue() :** Remove an item from front of queue\n",
    "- **size() :** Returns number of elements in queue.\n",
    "- **front() :** Finds front item.\n"
   ]
  },
  {
   "cell_type": "code",
   "execution_count": 9,
   "id": "6509ae51",
   "metadata": {},
   "outputs": [
    {
     "name": "stdout",
     "output_type": "stream",
     "text": [
      "3\n",
      "2\n",
      "1\n",
      "4\n",
      "5\n"
     ]
    }
   ],
   "source": [
    "from queue import Queue\n",
    "\n",
    "def reverseFirstK(queue, k):\n",
    "    stack = []\n",
    "    tempQueue = Queue()\n",
    "\n",
    "    # Dequeue and push first k elements onto stack\n",
    "    for _ in range(k):\n",
    "        stack.append(queue.get())\n",
    "\n",
    "    # Enqueue elements from stack into temporary queue\n",
    "    while stack:\n",
    "        tempQueue.put(stack.pop())\n",
    "\n",
    "    # Enqueue remaining elements into temporary queue\n",
    "    while not queue.empty():\n",
    "        tempQueue.put(queue.get())\n",
    "\n",
    "    # Update the given queue with the elements from the temporary queue\n",
    "    while not tempQueue.empty():\n",
    "        queue.put(tempQueue.get())\n",
    "\n",
    "    return queue\n",
    "\n",
    "# Example usage\n",
    "queue = Queue()\n",
    "queue.put(1)\n",
    "queue.put(2)\n",
    "queue.put(3)\n",
    "queue.put(4)\n",
    "queue.put(5)\n",
    "k = 3\n",
    "updated_queue = reverseFirstK(queue, k)\n",
    "\n",
    "# Print the updated queue\n",
    "while not updated_queue.empty():\n",
    "    print(updated_queue.get())\n",
    "\n"
   ]
  },
  {
   "cell_type": "markdown",
   "id": "395cf69e",
   "metadata": {},
   "source": [
    "\n",
    "💡 **Question 7**\n",
    "\n",
    "Given a sequence of n strings, the task is to check if any two similar words come together and then destroy each other then print the number of words left in the sequence after this pairwise destruction.\n",
    "\n",
    "**Examples:**\n",
    "\n",
    "Input : ab aa aa bcd ab\n",
    "\n",
    "Output : 3\n",
    "\n",
    "*As aa, aa destroys each other so,*\n",
    "\n",
    "*ab bcd ab is the new sequence.*\n",
    "\n",
    "Input :  tom jerry jerry tom\n",
    "\n",
    "Output : 0\n",
    "\n",
    "*As first both jerry will destroy each other.*\n",
    "\n",
    "*Then sequence will be tom, tom they will also destroy*\n",
    "\n",
    "*each other. So, the final sequence doesn’t contain any*\n",
    "\n",
    "*word.*\n",
    "\n"
   ]
  },
  {
   "cell_type": "code",
   "execution_count": 10,
   "id": "148b34f7",
   "metadata": {},
   "outputs": [
    {
     "name": "stdout",
     "output_type": "stream",
     "text": [
      "3\n"
     ]
    }
   ],
   "source": [
    "def countWordsAfterDestruction(sequence):\n",
    "    words = sequence.split()\n",
    "    stack = []\n",
    "\n",
    "    for word in words:\n",
    "        if not stack or stack[-1] != word:\n",
    "            stack.append(word)\n",
    "        else:\n",
    "            stack.pop()\n",
    "\n",
    "    return len(stack)\n",
    "\n",
    "# Example usage\n",
    "sequence = \"ab aa aa bcd ab\"\n",
    "result = countWordsAfterDestruction(sequence)\n",
    "print(result)\n"
   ]
  },
  {
   "cell_type": "markdown",
   "id": "af9bcc2a",
   "metadata": {},
   "source": [
    "\n",
    "💡 **Question 8**\n",
    "\n",
    "Given an array of integers, the task is to find the maximum absolute difference between the nearest left and the right smaller element of every element in the array.\n",
    "\n",
    "**Note:** If there is no smaller element on right side or left side of any element then we take zero as the smaller element. For example for the leftmost element, the nearest smaller element on the left side is considered as 0. Similarly, for rightmost elements, the smaller element on the right side is considered as 0.\n",
    "\n",
    "**Examples:**\n",
    "    Input : arr[] = {2, 1, 8}\n",
    "Output : 1\n",
    "Left smaller  LS[] {0, 0, 1}\n",
    "Right smaller RS[] {1, 0, 0}\n",
    "Maximum Diff of abs(LS[i] - RS[i]) = 1\n",
    "\n",
    "Input  : arr[] = {2, 4, 8, 7, 7, 9, 3}\n",
    "Output : 4\n",
    "Left smaller   LS[] = {0, 2, 4, 4, 4, 7, 2}\n",
    "Right smaller  RS[] = {0, 3, 7, 3, 3, 3, 0}\n",
    "Maximum Diff of abs(LS[i] - RS[i]) = 7 - 3 = 4\n",
    "\n",
    "Input : arr[] = {5, 1, 9, 2, 5, 1, 7}\n",
    "Output : 1\n"
   ]
  },
  {
   "cell_type": "code",
   "execution_count": 12,
   "id": "15009e19",
   "metadata": {},
   "outputs": [
    {
     "name": "stdout",
     "output_type": "stream",
     "text": [
      "1\n"
     ]
    }
   ],
   "source": [
    "def findMaxAbsDifference(arr):\n",
    "    n = len(arr)\n",
    "    LS = [0] * n\n",
    "    RS = [0] * n\n",
    "    leftStack = []\n",
    "    rightStack = []\n",
    "\n",
    "    # Finding nearest smaller element on the left side\n",
    "    for i in range(n):\n",
    "        while leftStack and leftStack[-1] >= arr[i]:\n",
    "            leftStack.pop()\n",
    "        if leftStack:\n",
    "            LS[i] = leftStack[-1]\n",
    "        leftStack.append(arr[i])\n",
    "\n",
    "    # Finding nearest smaller element on the right side\n",
    "    for i in range(n-1, -1, -1):\n",
    "        while rightStack and rightStack[-1] >= arr[i]:\n",
    "            rightStack.pop()\n",
    "        if rightStack:\n",
    "            RS[i] = rightStack[-1]\n",
    "        rightStack.append(arr[i])\n",
    "\n",
    "    maxDiff = 0\n",
    "    for i in range(n):\n",
    "        diff = abs(LS[i] - RS[i])\n",
    "        maxDiff = max(maxDiff, diff)\n",
    "\n",
    "    return maxDiff\n",
    "\n",
    "# Example usage\n",
    "arr = [2, 1, 8]\n",
    "result = findMaxAbsDifference(arr)\n",
    "print(result)\n"
   ]
  }
 ],
 "metadata": {
  "kernelspec": {
   "display_name": "Python 3 (ipykernel)",
   "language": "python",
   "name": "python3"
  },
  "language_info": {
   "codemirror_mode": {
    "name": "ipython",
    "version": 3
   },
   "file_extension": ".py",
   "mimetype": "text/x-python",
   "name": "python",
   "nbconvert_exporter": "python",
   "pygments_lexer": "ipython3",
   "version": "3.9.7"
  }
 },
 "nbformat": 4,
 "nbformat_minor": 5
}
